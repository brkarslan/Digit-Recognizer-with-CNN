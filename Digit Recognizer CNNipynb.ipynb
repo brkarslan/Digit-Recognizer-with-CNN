{
 "cells": [
  {
   "cell_type": "code",
   "execution_count": 1,
   "id": "737a7a11",
   "metadata": {
    "_cell_guid": "b1076dfc-b9ad-4769-8c92-a6c4dae69d19",
    "_uuid": "8f2839f25d086af736a60e9eeb907d3b93b6e0e5",
    "execution": {
     "iopub.execute_input": "2021-11-13T10:53:17.737801Z",
     "iopub.status.busy": "2021-11-13T10:53:17.731679Z",
     "iopub.status.idle": "2021-11-13T10:53:17.746329Z",
     "shell.execute_reply": "2021-11-13T10:53:17.745178Z",
     "shell.execute_reply.started": "2021-11-13T10:15:37.848036Z"
    },
    "papermill": {
     "duration": 0.043827,
     "end_time": "2021-11-13T10:53:17.746505",
     "exception": false,
     "start_time": "2021-11-13T10:53:17.702678",
     "status": "completed"
    },
    "tags": []
   },
   "outputs": [
    {
     "name": "stdout",
     "output_type": "stream",
     "text": [
      "/kaggle/input/digit-recognizer/sample_submission.csv\n",
      "/kaggle/input/digit-recognizer/train.csv\n",
      "/kaggle/input/digit-recognizer/test.csv\n"
     ]
    }
   ],
   "source": [
    "# This Python 3 environment comes with many helpful analytics libraries installed\n",
    "# It is defined by the kaggle/python Docker image: https://github.com/kaggle/docker-python\n",
    "# For example, here's several helpful packages to load\n",
    "\n",
    "import numpy as np # linear algebra\n",
    "import pandas as pd # data processing, CSV file I/O (e.g. pd.read_csv)\n",
    "\n",
    "# Input data files are available in the read-only \"../input/\" directory\n",
    "# For example, running this (by clicking run or pressing Shift+Enter) will list all files under the input directory\n",
    "\n",
    "import os\n",
    "for dirname, _, filenames in os.walk('/kaggle/input'):\n",
    "    for filename in filenames:\n",
    "        print(os.path.join(dirname, filename))\n",
    "\n",
    "# You can write up to 20GB to the current directory (/kaggle/working/) that gets preserved as output when you create a version using \"Save & Run All\" \n",
    "# You can also write temporary files to /kaggle/temp/, but they won't be saved outside of the current session"
   ]
  },
  {
   "cell_type": "code",
   "execution_count": 2,
   "id": "b58972c4",
   "metadata": {
    "execution": {
     "iopub.execute_input": "2021-11-13T10:53:17.793393Z",
     "iopub.status.busy": "2021-11-13T10:53:17.792662Z",
     "iopub.status.idle": "2021-11-13T10:53:18.722218Z",
     "shell.execute_reply": "2021-11-13T10:53:18.722868Z",
     "shell.execute_reply.started": "2021-11-13T10:15:37.878730Z"
    },
    "papermill": {
     "duration": 0.956454,
     "end_time": "2021-11-13T10:53:18.723051",
     "exception": false,
     "start_time": "2021-11-13T10:53:17.766597",
     "status": "completed"
    },
    "tags": []
   },
   "outputs": [],
   "source": [
    "import numpy as np\n",
    "import pandas as pd\n",
    "import seaborn as sns \n",
    "import matplotlib.pyplot as plt\n",
    "\n",
    "import warnings\n",
    "warnings.filterwarnings(\"ignore\")"
   ]
  },
  {
   "cell_type": "code",
   "execution_count": 3,
   "id": "a050e2fa",
   "metadata": {
    "execution": {
     "iopub.execute_input": "2021-11-13T10:53:18.766758Z",
     "iopub.status.busy": "2021-11-13T10:53:18.765968Z",
     "iopub.status.idle": "2021-11-13T10:53:22.429238Z",
     "shell.execute_reply": "2021-11-13T10:53:22.429811Z",
     "shell.execute_reply.started": "2021-11-13T10:15:38.830664Z"
    },
    "papermill": {
     "duration": 3.687789,
     "end_time": "2021-11-13T10:53:22.430021",
     "exception": false,
     "start_time": "2021-11-13T10:53:18.742232",
     "status": "completed"
    },
    "tags": []
   },
   "outputs": [
    {
     "name": "stdout",
     "output_type": "stream",
     "text": [
      "(42000, 785)\n"
     ]
    }
   ],
   "source": [
    "train = pd.read_csv(\"../input/digit-recognizer/train.csv\")\n",
    "print(train.shape)"
   ]
  },
  {
   "cell_type": "code",
   "execution_count": 4,
   "id": "655848cc",
   "metadata": {
    "execution": {
     "iopub.execute_input": "2021-11-13T10:53:22.480130Z",
     "iopub.status.busy": "2021-11-13T10:53:22.478171Z",
     "iopub.status.idle": "2021-11-13T10:53:22.499664Z",
     "shell.execute_reply": "2021-11-13T10:53:22.500199Z",
     "shell.execute_reply.started": "2021-11-13T10:15:42.974551Z"
    },
    "papermill": {
     "duration": 0.049799,
     "end_time": "2021-11-13T10:53:22.500369",
     "exception": false,
     "start_time": "2021-11-13T10:53:22.450570",
     "status": "completed"
    },
    "tags": []
   },
   "outputs": [
    {
     "data": {
      "text/html": [
       "<div>\n",
       "<style scoped>\n",
       "    .dataframe tbody tr th:only-of-type {\n",
       "        vertical-align: middle;\n",
       "    }\n",
       "\n",
       "    .dataframe tbody tr th {\n",
       "        vertical-align: top;\n",
       "    }\n",
       "\n",
       "    .dataframe thead th {\n",
       "        text-align: right;\n",
       "    }\n",
       "</style>\n",
       "<table border=\"1\" class=\"dataframe\">\n",
       "  <thead>\n",
       "    <tr style=\"text-align: right;\">\n",
       "      <th></th>\n",
       "      <th>label</th>\n",
       "      <th>pixel0</th>\n",
       "      <th>pixel1</th>\n",
       "      <th>pixel2</th>\n",
       "      <th>pixel3</th>\n",
       "      <th>pixel4</th>\n",
       "      <th>pixel5</th>\n",
       "      <th>pixel6</th>\n",
       "      <th>pixel7</th>\n",
       "      <th>pixel8</th>\n",
       "      <th>...</th>\n",
       "      <th>pixel774</th>\n",
       "      <th>pixel775</th>\n",
       "      <th>pixel776</th>\n",
       "      <th>pixel777</th>\n",
       "      <th>pixel778</th>\n",
       "      <th>pixel779</th>\n",
       "      <th>pixel780</th>\n",
       "      <th>pixel781</th>\n",
       "      <th>pixel782</th>\n",
       "      <th>pixel783</th>\n",
       "    </tr>\n",
       "  </thead>\n",
       "  <tbody>\n",
       "    <tr>\n",
       "      <th>0</th>\n",
       "      <td>1</td>\n",
       "      <td>0</td>\n",
       "      <td>0</td>\n",
       "      <td>0</td>\n",
       "      <td>0</td>\n",
       "      <td>0</td>\n",
       "      <td>0</td>\n",
       "      <td>0</td>\n",
       "      <td>0</td>\n",
       "      <td>0</td>\n",
       "      <td>...</td>\n",
       "      <td>0</td>\n",
       "      <td>0</td>\n",
       "      <td>0</td>\n",
       "      <td>0</td>\n",
       "      <td>0</td>\n",
       "      <td>0</td>\n",
       "      <td>0</td>\n",
       "      <td>0</td>\n",
       "      <td>0</td>\n",
       "      <td>0</td>\n",
       "    </tr>\n",
       "    <tr>\n",
       "      <th>1</th>\n",
       "      <td>0</td>\n",
       "      <td>0</td>\n",
       "      <td>0</td>\n",
       "      <td>0</td>\n",
       "      <td>0</td>\n",
       "      <td>0</td>\n",
       "      <td>0</td>\n",
       "      <td>0</td>\n",
       "      <td>0</td>\n",
       "      <td>0</td>\n",
       "      <td>...</td>\n",
       "      <td>0</td>\n",
       "      <td>0</td>\n",
       "      <td>0</td>\n",
       "      <td>0</td>\n",
       "      <td>0</td>\n",
       "      <td>0</td>\n",
       "      <td>0</td>\n",
       "      <td>0</td>\n",
       "      <td>0</td>\n",
       "      <td>0</td>\n",
       "    </tr>\n",
       "    <tr>\n",
       "      <th>2</th>\n",
       "      <td>1</td>\n",
       "      <td>0</td>\n",
       "      <td>0</td>\n",
       "      <td>0</td>\n",
       "      <td>0</td>\n",
       "      <td>0</td>\n",
       "      <td>0</td>\n",
       "      <td>0</td>\n",
       "      <td>0</td>\n",
       "      <td>0</td>\n",
       "      <td>...</td>\n",
       "      <td>0</td>\n",
       "      <td>0</td>\n",
       "      <td>0</td>\n",
       "      <td>0</td>\n",
       "      <td>0</td>\n",
       "      <td>0</td>\n",
       "      <td>0</td>\n",
       "      <td>0</td>\n",
       "      <td>0</td>\n",
       "      <td>0</td>\n",
       "    </tr>\n",
       "    <tr>\n",
       "      <th>3</th>\n",
       "      <td>4</td>\n",
       "      <td>0</td>\n",
       "      <td>0</td>\n",
       "      <td>0</td>\n",
       "      <td>0</td>\n",
       "      <td>0</td>\n",
       "      <td>0</td>\n",
       "      <td>0</td>\n",
       "      <td>0</td>\n",
       "      <td>0</td>\n",
       "      <td>...</td>\n",
       "      <td>0</td>\n",
       "      <td>0</td>\n",
       "      <td>0</td>\n",
       "      <td>0</td>\n",
       "      <td>0</td>\n",
       "      <td>0</td>\n",
       "      <td>0</td>\n",
       "      <td>0</td>\n",
       "      <td>0</td>\n",
       "      <td>0</td>\n",
       "    </tr>\n",
       "    <tr>\n",
       "      <th>4</th>\n",
       "      <td>0</td>\n",
       "      <td>0</td>\n",
       "      <td>0</td>\n",
       "      <td>0</td>\n",
       "      <td>0</td>\n",
       "      <td>0</td>\n",
       "      <td>0</td>\n",
       "      <td>0</td>\n",
       "      <td>0</td>\n",
       "      <td>0</td>\n",
       "      <td>...</td>\n",
       "      <td>0</td>\n",
       "      <td>0</td>\n",
       "      <td>0</td>\n",
       "      <td>0</td>\n",
       "      <td>0</td>\n",
       "      <td>0</td>\n",
       "      <td>0</td>\n",
       "      <td>0</td>\n",
       "      <td>0</td>\n",
       "      <td>0</td>\n",
       "    </tr>\n",
       "  </tbody>\n",
       "</table>\n",
       "<p>5 rows × 785 columns</p>\n",
       "</div>"
      ],
      "text/plain": [
       "   label  pixel0  pixel1  pixel2  pixel3  pixel4  pixel5  pixel6  pixel7  \\\n",
       "0      1       0       0       0       0       0       0       0       0   \n",
       "1      0       0       0       0       0       0       0       0       0   \n",
       "2      1       0       0       0       0       0       0       0       0   \n",
       "3      4       0       0       0       0       0       0       0       0   \n",
       "4      0       0       0       0       0       0       0       0       0   \n",
       "\n",
       "   pixel8  ...  pixel774  pixel775  pixel776  pixel777  pixel778  pixel779  \\\n",
       "0       0  ...         0         0         0         0         0         0   \n",
       "1       0  ...         0         0         0         0         0         0   \n",
       "2       0  ...         0         0         0         0         0         0   \n",
       "3       0  ...         0         0         0         0         0         0   \n",
       "4       0  ...         0         0         0         0         0         0   \n",
       "\n",
       "   pixel780  pixel781  pixel782  pixel783  \n",
       "0         0         0         0         0  \n",
       "1         0         0         0         0  \n",
       "2         0         0         0         0  \n",
       "3         0         0         0         0  \n",
       "4         0         0         0         0  \n",
       "\n",
       "[5 rows x 785 columns]"
      ]
     },
     "execution_count": 4,
     "metadata": {},
     "output_type": "execute_result"
    }
   ],
   "source": [
    "train.head()"
   ]
  },
  {
   "cell_type": "code",
   "execution_count": 5,
   "id": "c42cb277",
   "metadata": {
    "execution": {
     "iopub.execute_input": "2021-11-13T10:53:22.545320Z",
     "iopub.status.busy": "2021-11-13T10:53:22.544656Z",
     "iopub.status.idle": "2021-11-13T10:53:24.600569Z",
     "shell.execute_reply": "2021-11-13T10:53:24.601428Z",
     "shell.execute_reply.started": "2021-11-13T10:15:43.011701Z"
    },
    "papermill": {
     "duration": 2.081139,
     "end_time": "2021-11-13T10:53:24.601647",
     "exception": false,
     "start_time": "2021-11-13T10:53:22.520508",
     "status": "completed"
    },
    "tags": []
   },
   "outputs": [
    {
     "name": "stdout",
     "output_type": "stream",
     "text": [
      "(28000, 784)\n"
     ]
    },
    {
     "data": {
      "text/html": [
       "<div>\n",
       "<style scoped>\n",
       "    .dataframe tbody tr th:only-of-type {\n",
       "        vertical-align: middle;\n",
       "    }\n",
       "\n",
       "    .dataframe tbody tr th {\n",
       "        vertical-align: top;\n",
       "    }\n",
       "\n",
       "    .dataframe thead th {\n",
       "        text-align: right;\n",
       "    }\n",
       "</style>\n",
       "<table border=\"1\" class=\"dataframe\">\n",
       "  <thead>\n",
       "    <tr style=\"text-align: right;\">\n",
       "      <th></th>\n",
       "      <th>pixel0</th>\n",
       "      <th>pixel1</th>\n",
       "      <th>pixel2</th>\n",
       "      <th>pixel3</th>\n",
       "      <th>pixel4</th>\n",
       "      <th>pixel5</th>\n",
       "      <th>pixel6</th>\n",
       "      <th>pixel7</th>\n",
       "      <th>pixel8</th>\n",
       "      <th>pixel9</th>\n",
       "      <th>...</th>\n",
       "      <th>pixel774</th>\n",
       "      <th>pixel775</th>\n",
       "      <th>pixel776</th>\n",
       "      <th>pixel777</th>\n",
       "      <th>pixel778</th>\n",
       "      <th>pixel779</th>\n",
       "      <th>pixel780</th>\n",
       "      <th>pixel781</th>\n",
       "      <th>pixel782</th>\n",
       "      <th>pixel783</th>\n",
       "    </tr>\n",
       "  </thead>\n",
       "  <tbody>\n",
       "    <tr>\n",
       "      <th>0</th>\n",
       "      <td>0</td>\n",
       "      <td>0</td>\n",
       "      <td>0</td>\n",
       "      <td>0</td>\n",
       "      <td>0</td>\n",
       "      <td>0</td>\n",
       "      <td>0</td>\n",
       "      <td>0</td>\n",
       "      <td>0</td>\n",
       "      <td>0</td>\n",
       "      <td>...</td>\n",
       "      <td>0</td>\n",
       "      <td>0</td>\n",
       "      <td>0</td>\n",
       "      <td>0</td>\n",
       "      <td>0</td>\n",
       "      <td>0</td>\n",
       "      <td>0</td>\n",
       "      <td>0</td>\n",
       "      <td>0</td>\n",
       "      <td>0</td>\n",
       "    </tr>\n",
       "    <tr>\n",
       "      <th>1</th>\n",
       "      <td>0</td>\n",
       "      <td>0</td>\n",
       "      <td>0</td>\n",
       "      <td>0</td>\n",
       "      <td>0</td>\n",
       "      <td>0</td>\n",
       "      <td>0</td>\n",
       "      <td>0</td>\n",
       "      <td>0</td>\n",
       "      <td>0</td>\n",
       "      <td>...</td>\n",
       "      <td>0</td>\n",
       "      <td>0</td>\n",
       "      <td>0</td>\n",
       "      <td>0</td>\n",
       "      <td>0</td>\n",
       "      <td>0</td>\n",
       "      <td>0</td>\n",
       "      <td>0</td>\n",
       "      <td>0</td>\n",
       "      <td>0</td>\n",
       "    </tr>\n",
       "    <tr>\n",
       "      <th>2</th>\n",
       "      <td>0</td>\n",
       "      <td>0</td>\n",
       "      <td>0</td>\n",
       "      <td>0</td>\n",
       "      <td>0</td>\n",
       "      <td>0</td>\n",
       "      <td>0</td>\n",
       "      <td>0</td>\n",
       "      <td>0</td>\n",
       "      <td>0</td>\n",
       "      <td>...</td>\n",
       "      <td>0</td>\n",
       "      <td>0</td>\n",
       "      <td>0</td>\n",
       "      <td>0</td>\n",
       "      <td>0</td>\n",
       "      <td>0</td>\n",
       "      <td>0</td>\n",
       "      <td>0</td>\n",
       "      <td>0</td>\n",
       "      <td>0</td>\n",
       "    </tr>\n",
       "    <tr>\n",
       "      <th>3</th>\n",
       "      <td>0</td>\n",
       "      <td>0</td>\n",
       "      <td>0</td>\n",
       "      <td>0</td>\n",
       "      <td>0</td>\n",
       "      <td>0</td>\n",
       "      <td>0</td>\n",
       "      <td>0</td>\n",
       "      <td>0</td>\n",
       "      <td>0</td>\n",
       "      <td>...</td>\n",
       "      <td>0</td>\n",
       "      <td>0</td>\n",
       "      <td>0</td>\n",
       "      <td>0</td>\n",
       "      <td>0</td>\n",
       "      <td>0</td>\n",
       "      <td>0</td>\n",
       "      <td>0</td>\n",
       "      <td>0</td>\n",
       "      <td>0</td>\n",
       "    </tr>\n",
       "    <tr>\n",
       "      <th>4</th>\n",
       "      <td>0</td>\n",
       "      <td>0</td>\n",
       "      <td>0</td>\n",
       "      <td>0</td>\n",
       "      <td>0</td>\n",
       "      <td>0</td>\n",
       "      <td>0</td>\n",
       "      <td>0</td>\n",
       "      <td>0</td>\n",
       "      <td>0</td>\n",
       "      <td>...</td>\n",
       "      <td>0</td>\n",
       "      <td>0</td>\n",
       "      <td>0</td>\n",
       "      <td>0</td>\n",
       "      <td>0</td>\n",
       "      <td>0</td>\n",
       "      <td>0</td>\n",
       "      <td>0</td>\n",
       "      <td>0</td>\n",
       "      <td>0</td>\n",
       "    </tr>\n",
       "  </tbody>\n",
       "</table>\n",
       "<p>5 rows × 784 columns</p>\n",
       "</div>"
      ],
      "text/plain": [
       "   pixel0  pixel1  pixel2  pixel3  pixel4  pixel5  pixel6  pixel7  pixel8  \\\n",
       "0       0       0       0       0       0       0       0       0       0   \n",
       "1       0       0       0       0       0       0       0       0       0   \n",
       "2       0       0       0       0       0       0       0       0       0   \n",
       "3       0       0       0       0       0       0       0       0       0   \n",
       "4       0       0       0       0       0       0       0       0       0   \n",
       "\n",
       "   pixel9  ...  pixel774  pixel775  pixel776  pixel777  pixel778  pixel779  \\\n",
       "0       0  ...         0         0         0         0         0         0   \n",
       "1       0  ...         0         0         0         0         0         0   \n",
       "2       0  ...         0         0         0         0         0         0   \n",
       "3       0  ...         0         0         0         0         0         0   \n",
       "4       0  ...         0         0         0         0         0         0   \n",
       "\n",
       "   pixel780  pixel781  pixel782  pixel783  \n",
       "0         0         0         0         0  \n",
       "1         0         0         0         0  \n",
       "2         0         0         0         0  \n",
       "3         0         0         0         0  \n",
       "4         0         0         0         0  \n",
       "\n",
       "[5 rows x 784 columns]"
      ]
     },
     "execution_count": 5,
     "metadata": {},
     "output_type": "execute_result"
    }
   ],
   "source": [
    "test = pd.read_csv(\"../input/digit-recognizer/test.csv\")\n",
    "print(test.shape)\n",
    "test.head()"
   ]
  },
  {
   "cell_type": "code",
   "execution_count": 6,
   "id": "065f0a7a",
   "metadata": {
    "execution": {
     "iopub.execute_input": "2021-11-13T10:53:24.648384Z",
     "iopub.status.busy": "2021-11-13T10:53:24.647716Z",
     "iopub.status.idle": "2021-11-13T10:53:24.761794Z",
     "shell.execute_reply": "2021-11-13T10:53:24.761214Z",
     "shell.execute_reply.started": "2021-11-13T10:15:45.232901Z"
    },
    "papermill": {
     "duration": 0.138436,
     "end_time": "2021-11-13T10:53:24.761929",
     "exception": false,
     "start_time": "2021-11-13T10:53:24.623493",
     "status": "completed"
    },
    "tags": []
   },
   "outputs": [],
   "source": [
    "Y_train = train[\"label\"]\n",
    "X_train = train.drop(labels= [\"label\"],axis=1)"
   ]
  },
  {
   "cell_type": "code",
   "execution_count": 7,
   "id": "d048d150",
   "metadata": {
    "execution": {
     "iopub.execute_input": "2021-11-13T10:53:24.807391Z",
     "iopub.status.busy": "2021-11-13T10:53:24.806633Z",
     "iopub.status.idle": "2021-11-13T10:53:24.811302Z",
     "shell.execute_reply": "2021-11-13T10:53:24.810759Z",
     "shell.execute_reply.started": "2021-11-13T10:15:45.411093Z"
    },
    "papermill": {
     "duration": 0.028554,
     "end_time": "2021-11-13T10:53:24.811442",
     "exception": false,
     "start_time": "2021-11-13T10:53:24.782888",
     "status": "completed"
    },
    "tags": []
   },
   "outputs": [],
   "source": [
    "x_train = X_train.values.reshape(-1, 28, 28, 1)"
   ]
  },
  {
   "cell_type": "code",
   "execution_count": 8,
   "id": "75ee29f7",
   "metadata": {
    "execution": {
     "iopub.execute_input": "2021-11-13T10:53:24.860071Z",
     "iopub.status.busy": "2021-11-13T10:53:24.856117Z",
     "iopub.status.idle": "2021-11-13T10:53:24.971566Z",
     "shell.execute_reply": "2021-11-13T10:53:24.970821Z",
     "shell.execute_reply.started": "2021-11-13T10:15:45.423930Z"
    },
    "papermill": {
     "duration": 0.139327,
     "end_time": "2021-11-13T10:53:24.971713",
     "exception": false,
     "start_time": "2021-11-13T10:53:24.832386",
     "status": "completed"
    },
    "tags": []
   },
   "outputs": [],
   "source": [
    "X_train = X_train / 255.0 \n",
    "test = test / 255.0"
   ]
  },
  {
   "cell_type": "code",
   "execution_count": 9,
   "id": "3626d889",
   "metadata": {
    "execution": {
     "iopub.execute_input": "2021-11-13T10:53:25.017590Z",
     "iopub.status.busy": "2021-11-13T10:53:25.016927Z",
     "iopub.status.idle": "2021-11-13T10:53:25.020653Z",
     "shell.execute_reply": "2021-11-13T10:53:25.021208Z",
     "shell.execute_reply.started": "2021-11-13T10:15:45.578599Z"
    },
    "papermill": {
     "duration": 0.028628,
     "end_time": "2021-11-13T10:53:25.021378",
     "exception": false,
     "start_time": "2021-11-13T10:53:24.992750",
     "status": "completed"
    },
    "tags": []
   },
   "outputs": [],
   "source": [
    "X_train = X_train.values.reshape(-1, 28, 28, 1)\n",
    "test = test.values.reshape(-1, 28, 28, 1)"
   ]
  },
  {
   "cell_type": "code",
   "execution_count": 10,
   "id": "dc99d8d1",
   "metadata": {
    "execution": {
     "iopub.execute_input": "2021-11-13T10:53:25.067184Z",
     "iopub.status.busy": "2021-11-13T10:53:25.066527Z",
     "iopub.status.idle": "2021-11-13T10:53:30.647346Z",
     "shell.execute_reply": "2021-11-13T10:53:30.647874Z",
     "shell.execute_reply.started": "2021-11-13T10:15:45.584644Z"
    },
    "papermill": {
     "duration": 5.605226,
     "end_time": "2021-11-13T10:53:30.648038",
     "exception": false,
     "start_time": "2021-11-13T10:53:25.042812",
     "status": "completed"
    },
    "tags": []
   },
   "outputs": [
    {
     "data": {
      "text/plain": [
       "array([[0., 1., 0., ..., 0., 0., 0.],\n",
       "       [1., 0., 0., ..., 0., 0., 0.],\n",
       "       [0., 1., 0., ..., 0., 0., 0.],\n",
       "       ...,\n",
       "       [0., 0., 0., ..., 1., 0., 0.],\n",
       "       [0., 0., 0., ..., 0., 0., 0.],\n",
       "       [0., 0., 0., ..., 0., 0., 1.]], dtype=float32)"
      ]
     },
     "execution_count": 10,
     "metadata": {},
     "output_type": "execute_result"
    }
   ],
   "source": [
    "from keras.utils.np_utils import to_categorical \n",
    "Y_train = to_categorical(Y_train, num_classes = 10)\n",
    "Y_train"
   ]
  },
  {
   "cell_type": "code",
   "execution_count": 11,
   "id": "05f245b1",
   "metadata": {
    "execution": {
     "iopub.execute_input": "2021-11-13T10:53:30.694469Z",
     "iopub.status.busy": "2021-11-13T10:53:30.693789Z",
     "iopub.status.idle": "2021-11-13T10:53:31.457857Z",
     "shell.execute_reply": "2021-11-13T10:53:31.458583Z",
     "shell.execute_reply.started": "2021-11-13T10:15:51.661949Z"
    },
    "papermill": {
     "duration": 0.789332,
     "end_time": "2021-11-13T10:53:31.458808",
     "exception": false,
     "start_time": "2021-11-13T10:53:30.669476",
     "status": "completed"
    },
    "tags": []
   },
   "outputs": [
    {
     "name": "stdout",
     "output_type": "stream",
     "text": [
      "x_train shape:  (37800, 28, 28, 1)\n",
      "x_val shape:  (4200, 28, 28, 1)\n",
      "y_train shape:  (37800, 10)\n",
      "x_val shape:  (4200, 10)\n"
     ]
    }
   ],
   "source": [
    "from sklearn.model_selection import train_test_split \n",
    "X_train, X_val, Y_train, Y_val = train_test_split(X_train, Y_train, test_size=0.1, random_state=2)\n",
    "print(\"x_train shape: \", X_train.shape)\n",
    "print(\"x_val shape: \", X_val.shape)\n",
    "print(\"y_train shape: \", Y_train.shape)\n",
    "print(\"x_val shape: \", Y_val.shape)"
   ]
  },
  {
   "cell_type": "code",
   "execution_count": 12,
   "id": "f4543103",
   "metadata": {
    "execution": {
     "iopub.execute_input": "2021-11-13T10:53:31.507333Z",
     "iopub.status.busy": "2021-11-13T10:53:31.506340Z",
     "iopub.status.idle": "2021-11-13T10:53:31.897164Z",
     "shell.execute_reply": "2021-11-13T10:53:31.896563Z",
     "shell.execute_reply.started": "2021-11-13T10:15:52.759367Z"
    },
    "papermill": {
     "duration": 0.416016,
     "end_time": "2021-11-13T10:53:31.897320",
     "exception": false,
     "start_time": "2021-11-13T10:53:31.481304",
     "status": "completed"
    },
    "tags": []
   },
   "outputs": [],
   "source": [
    "from sklearn.metrics import confusion_matrix\n",
    "import itertools\n",
    "\n",
    "from keras.utils.np_utils import to_categorical\n",
    "from keras.models import Sequential\n",
    "from keras.layers import Dense, Dropout, Flatten, Conv2D, MaxPool2D\n",
    "from tensorflow.keras.optimizers import RMSprop,Adam\n",
    "from keras.preprocessing.image import ImageDataGenerator \n",
    "from keras.callbacks import ReduceLROnPlateau"
   ]
  },
  {
   "cell_type": "code",
   "execution_count": 13,
   "id": "3d2dd94b",
   "metadata": {
    "execution": {
     "iopub.execute_input": "2021-11-13T10:53:31.951856Z",
     "iopub.status.busy": "2021-11-13T10:53:31.950962Z",
     "iopub.status.idle": "2021-11-13T10:53:32.127282Z",
     "shell.execute_reply": "2021-11-13T10:53:32.128181Z",
     "shell.execute_reply.started": "2021-11-13T10:15:53.180227Z"
    },
    "papermill": {
     "duration": 0.208536,
     "end_time": "2021-11-13T10:53:32.128401",
     "exception": false,
     "start_time": "2021-11-13T10:53:31.919865",
     "status": "completed"
    },
    "tags": []
   },
   "outputs": [
    {
     "name": "stderr",
     "output_type": "stream",
     "text": [
      "\n",
      "User settings:\n",
      "\n",
      "   KMP_AFFINITY=granularity=fine,verbose,compact,1,0\n",
      "   KMP_BLOCKTIME=0\n",
      "   KMP_DUPLICATE_LIB_OK=True\n",
      "   KMP_INIT_AT_FORK=FALSE\n",
      "   KMP_SETTINGS=1\n",
      "   KMP_WARNINGS=0\n",
      "\n",
      "Effective settings:\n",
      "\n",
      "   KMP_ABORT_DELAY=0\n",
      "   KMP_ADAPTIVE_LOCK_PROPS='1,1024'\n",
      "   KMP_ALIGN_ALLOC=64\n",
      "   KMP_ALL_THREADPRIVATE=128\n",
      "   KMP_ATOMIC_MODE=2\n",
      "   KMP_BLOCKTIME=0\n",
      "   KMP_CPUINFO_FILE: value is not defined\n",
      "   KMP_DETERMINISTIC_REDUCTION=false\n",
      "   KMP_DEVICE_THREAD_LIMIT=2147483647\n",
      "   KMP_DISP_NUM_BUFFERS=7\n",
      "   KMP_DUPLICATE_LIB_OK=true\n",
      "   KMP_ENABLE_TASK_THROTTLING=true\n",
      "   KMP_FORCE_REDUCTION: value is not defined\n",
      "   KMP_FOREIGN_THREADS_THREADPRIVATE=true\n",
      "   KMP_FORKJOIN_BARRIER='2,2'\n",
      "   KMP_FORKJOIN_BARRIER_PATTERN='hyper,hyper'\n",
      "   KMP_GTID_MODE=3\n",
      "   KMP_HANDLE_SIGNALS=false\n",
      "   KMP_HOT_TEAMS_MAX_LEVEL=1\n",
      "   KMP_HOT_TEAMS_MODE=0\n",
      "   KMP_INIT_AT_FORK=true\n",
      "   KMP_LIBRARY=throughput\n",
      "   KMP_LOCK_KIND=queuing\n",
      "   KMP_MALLOC_POOL_INCR=1M\n",
      "   KMP_NUM_LOCKS_IN_BLOCK=1\n",
      "   KMP_PLAIN_BARRIER='2,2'\n",
      "   KMP_PLAIN_BARRIER_PATTERN='hyper,hyper'\n",
      "   KMP_REDUCTION_BARRIER='1,1'\n",
      "   KMP_REDUCTION_BARRIER_PATTERN='hyper,hyper'\n",
      "   KMP_SCHEDULE='static,balanced;guided,iterative'\n",
      "   KMP_SETTINGS=true\n",
      "   KMP_SPIN_BACKOFF_PARAMS='4096,100'\n",
      "   KMP_STACKOFFSET=64\n",
      "   KMP_STACKPAD=0\n",
      "   KMP_STACKSIZE=8M\n",
      "   KMP_STORAGE_MAP=false\n",
      "   KMP_TASKING=2\n",
      "   KMP_TASKLOOP_MIN_TASKS=0\n",
      "   KMP_TASK_STEALING_CONSTRAINT=1\n",
      "   KMP_TEAMS_THREAD_LIMIT=4\n",
      "   KMP_TOPOLOGY_METHOD=all\n",
      "   KMP_USE_YIELD=1\n",
      "   KMP_VERSION=false\n",
      "   KMP_WARNINGS=false\n",
      "   OMP_AFFINITY_FORMAT='OMP: pid %P tid %i thread %n bound to OS proc set {%A}'\n",
      "   OMP_ALLOCATOR=omp_default_mem_alloc\n",
      "   OMP_CANCELLATION=false\n",
      "   OMP_DEFAULT_DEVICE=0\n",
      "   OMP_DISPLAY_AFFINITY=false\n",
      "   OMP_DISPLAY_ENV=false\n",
      "   OMP_DYNAMIC=false\n",
      "   OMP_MAX_ACTIVE_LEVELS=1\n",
      "   OMP_MAX_TASK_PRIORITY=0\n",
      "   OMP_NESTED: deprecated; max-active-levels-var=1\n",
      "   OMP_NUM_THREADS: value is not defined\n",
      "   OMP_PLACES: value is not defined\n",
      "   OMP_PROC_BIND='intel'\n",
      "   OMP_SCHEDULE='static'\n",
      "   OMP_STACKSIZE=8M\n",
      "   OMP_TARGET_OFFLOAD=DEFAULT\n",
      "   OMP_THREAD_LIMIT=2147483647\n",
      "   OMP_WAIT_POLICY=PASSIVE\n",
      "   KMP_AFFINITY='verbose,warnings,respect,granularity=fine,compact,1,0'\n",
      "\n",
      "2021-11-13 10:53:31.987232: I tensorflow/core/common_runtime/process_util.cc:146] Creating new thread pool with default inter op setting: 2. Tune using inter_op_parallelism_threads for best performance.\n"
     ]
    }
   ],
   "source": [
    "model = Sequential()\n",
    "\n",
    "model.add(Conv2D(filters = 8, kernel_size = (5,5), padding = \"Same\",\n",
    "                activation = \"relu\", input_shape = (28,28,1))) \n",
    "model.add(MaxPool2D(pool_size = (2,2)))\n",
    "model.add(Dropout (0.25)) \n",
    "#\n",
    "model.add(Conv2D(filters = 16, kernel_size = (3,3), padding = \"Same\",\n",
    "                activation = \"relu\"))\n",
    "model.add(MaxPool2D(pool_size = (2,2),strides= (2,2))) \n",
    "model.add(Dropout(0.25))\n",
    "#\n",
    "#\n",
    "model.add(Conv2D(filters = 16, kernel_size = (3,3), padding = \"Same\",\n",
    "                activation = \"relu\"))\n",
    "model.add(MaxPool2D(pool_size = (2,2),strides= (2,2))) \n",
    "model.add(Dropout(0.25))\n",
    "#\n",
    "model.add(Flatten())\n",
    "model.add(Dense(256, activation=\"relu\"))\n",
    "model.add(Dropout(0.5))\n",
    "model.add(Dense(10, activation=\"softmax\"))"
   ]
  },
  {
   "cell_type": "code",
   "execution_count": 14,
   "id": "6f166f34",
   "metadata": {
    "execution": {
     "iopub.execute_input": "2021-11-13T10:53:32.179718Z",
     "iopub.status.busy": "2021-11-13T10:53:32.178723Z",
     "iopub.status.idle": "2021-11-13T10:53:32.181850Z",
     "shell.execute_reply": "2021-11-13T10:53:32.181292Z",
     "shell.execute_reply.started": "2021-11-13T10:15:53.374901Z"
    },
    "papermill": {
     "duration": 0.030358,
     "end_time": "2021-11-13T10:53:32.181993",
     "exception": false,
     "start_time": "2021-11-13T10:53:32.151635",
     "status": "completed"
    },
    "tags": []
   },
   "outputs": [],
   "source": [
    "optimizer = Adam(lr=0.001, beta_1= 0.9, beta_2 = 0.999)"
   ]
  },
  {
   "cell_type": "code",
   "execution_count": 15,
   "id": "58aabe2a",
   "metadata": {
    "execution": {
     "iopub.execute_input": "2021-11-13T10:53:32.229981Z",
     "iopub.status.busy": "2021-11-13T10:53:32.229328Z",
     "iopub.status.idle": "2021-11-13T10:53:32.243448Z",
     "shell.execute_reply": "2021-11-13T10:53:32.244036Z",
     "shell.execute_reply.started": "2021-11-13T10:15:53.380911Z"
    },
    "papermill": {
     "duration": 0.039785,
     "end_time": "2021-11-13T10:53:32.244241",
     "exception": false,
     "start_time": "2021-11-13T10:53:32.204456",
     "status": "completed"
    },
    "tags": []
   },
   "outputs": [],
   "source": [
    "model.compile(optimizer = optimizer, loss = \"categorical_crossentropy\", metrics = [\"accuracy\"])"
   ]
  },
  {
   "cell_type": "code",
   "execution_count": 16,
   "id": "cec69514",
   "metadata": {
    "execution": {
     "iopub.execute_input": "2021-11-13T10:53:32.294384Z",
     "iopub.status.busy": "2021-11-13T10:53:32.293721Z",
     "iopub.status.idle": "2021-11-13T10:53:32.296706Z",
     "shell.execute_reply": "2021-11-13T10:53:32.297315Z",
     "shell.execute_reply.started": "2021-11-13T10:15:53.403866Z"
    },
    "papermill": {
     "duration": 0.02993,
     "end_time": "2021-11-13T10:53:32.297495",
     "exception": false,
     "start_time": "2021-11-13T10:53:32.267565",
     "status": "completed"
    },
    "tags": []
   },
   "outputs": [],
   "source": [
    "epoch = 100 \n",
    "batch_size = 250"
   ]
  },
  {
   "cell_type": "code",
   "execution_count": 17,
   "id": "0b6687dc",
   "metadata": {
    "execution": {
     "iopub.execute_input": "2021-11-13T10:53:32.346320Z",
     "iopub.status.busy": "2021-11-13T10:53:32.345667Z",
     "iopub.status.idle": "2021-11-13T10:53:32.444862Z",
     "shell.execute_reply": "2021-11-13T10:53:32.444292Z",
     "shell.execute_reply.started": "2021-11-13T10:15:53.410185Z"
    },
    "papermill": {
     "duration": 0.125133,
     "end_time": "2021-11-13T10:53:32.444999",
     "exception": false,
     "start_time": "2021-11-13T10:53:32.319866",
     "status": "completed"
    },
    "tags": []
   },
   "outputs": [],
   "source": [
    "datagen = ImageDataGenerator(\n",
    "        featurewise_center=False,  # set input mean to 0 over the dataset\n",
    "        samplewise_center=False,  # set each sample mean to 0\n",
    "        featurewise_std_normalization=False,  # divide inputs by std of the dataset\n",
    "        samplewise_std_normalization=False,  # divide each input by its std\n",
    "        zca_whitening=False,  # dimesion reduction\n",
    "        rotation_range=0.5,  # randomly rotate images in the range 5 degrees\n",
    "        zoom_range = 0.5, # Randomly zoom image 5%\n",
    "        width_shift_range=0.5,  # randomly shift images horizontally 5%\n",
    "        height_shift_range=0.5,  # randomly shift images vertically 5%\n",
    "        horizontal_flip=False,  # randomly flip images\n",
    "        vertical_flip=False)  # randomly flip images\n",
    "datagen.fit(X_train)"
   ]
  },
  {
   "cell_type": "code",
   "execution_count": 18,
   "id": "e0067695",
   "metadata": {
    "execution": {
     "iopub.execute_input": "2021-11-13T10:53:32.495252Z",
     "iopub.status.busy": "2021-11-13T10:53:32.493910Z",
     "iopub.status.idle": "2021-11-13T11:26:04.365216Z",
     "shell.execute_reply": "2021-11-13T11:26:04.365703Z",
     "shell.execute_reply.started": "2021-11-13T10:15:53.573452Z"
    },
    "papermill": {
     "duration": 1951.898846,
     "end_time": "2021-11-13T11:26:04.365893",
     "exception": false,
     "start_time": "2021-11-13T10:53:32.467047",
     "status": "completed"
    },
    "tags": []
   },
   "outputs": [
    {
     "name": "stderr",
     "output_type": "stream",
     "text": [
      "2021-11-13 10:53:32.685734: I tensorflow/compiler/mlir/mlir_graph_optimization_pass.cc:185] None of the MLIR Optimization Passes are enabled (registered 2)\n"
     ]
    },
    {
     "name": "stdout",
     "output_type": "stream",
     "text": [
      "Epoch 1/100\n",
      "151/151 [==============================] - 14s 89ms/step - loss: 2.2102 - accuracy: 0.1840 - val_loss: 1.7368 - val_accuracy: 0.4276\n",
      "Epoch 2/100\n",
      "151/151 [==============================] - 13s 85ms/step - loss: 1.9474 - accuracy: 0.3034 - val_loss: 1.2045 - val_accuracy: 0.6521\n",
      "Epoch 3/100\n",
      "151/151 [==============================] - 13s 87ms/step - loss: 1.7777 - accuracy: 0.3788 - val_loss: 0.9272 - val_accuracy: 0.7845\n",
      "Epoch 4/100\n",
      "151/151 [==============================] - 13s 88ms/step - loss: 1.6819 - accuracy: 0.4110 - val_loss: 0.8243 - val_accuracy: 0.7755\n",
      "Epoch 5/100\n",
      "151/151 [==============================] - 13s 85ms/step - loss: 1.6277 - accuracy: 0.4322 - val_loss: 0.7012 - val_accuracy: 0.8488\n",
      "Epoch 6/100\n",
      "151/151 [==============================] - 13s 88ms/step - loss: 1.5631 - accuracy: 0.4590 - val_loss: 0.5997 - val_accuracy: 0.8638\n",
      "Epoch 7/100\n",
      "151/151 [==============================] - 13s 86ms/step - loss: 1.5244 - accuracy: 0.4741 - val_loss: 0.5370 - val_accuracy: 0.8771\n",
      "Epoch 8/100\n",
      "151/151 [==============================] - 13s 87ms/step - loss: 1.4934 - accuracy: 0.4870 - val_loss: 0.5029 - val_accuracy: 0.8798\n",
      "Epoch 9/100\n",
      "151/151 [==============================] - 13s 88ms/step - loss: 1.4719 - accuracy: 0.4892 - val_loss: 0.4642 - val_accuracy: 0.8919\n",
      "Epoch 10/100\n",
      "151/151 [==============================] - 13s 85ms/step - loss: 1.4509 - accuracy: 0.4976 - val_loss: 0.4224 - val_accuracy: 0.8938\n",
      "Epoch 11/100\n",
      "151/151 [==============================] - 13s 87ms/step - loss: 1.4261 - accuracy: 0.5065 - val_loss: 0.3954 - val_accuracy: 0.9036\n",
      "Epoch 12/100\n",
      "151/151 [==============================] - 13s 85ms/step - loss: 1.4085 - accuracy: 0.5120 - val_loss: 0.3729 - val_accuracy: 0.9050\n",
      "Epoch 13/100\n",
      "151/151 [==============================] - 13s 85ms/step - loss: 1.3798 - accuracy: 0.5244 - val_loss: 0.3664 - val_accuracy: 0.9064\n",
      "Epoch 14/100\n",
      "151/151 [==============================] - 13s 87ms/step - loss: 1.3705 - accuracy: 0.5274 - val_loss: 0.3430 - val_accuracy: 0.9145\n",
      "Epoch 15/100\n",
      "151/151 [==============================] - 13s 86ms/step - loss: 1.3683 - accuracy: 0.5291 - val_loss: 0.3330 - val_accuracy: 0.9169\n",
      "Epoch 16/100\n",
      "151/151 [==============================] - 13s 86ms/step - loss: 1.3445 - accuracy: 0.5372 - val_loss: 0.3148 - val_accuracy: 0.9219\n",
      "Epoch 17/100\n",
      "151/151 [==============================] - 13s 86ms/step - loss: 1.3400 - accuracy: 0.5405 - val_loss: 0.2971 - val_accuracy: 0.9231\n",
      "Epoch 18/100\n",
      "151/151 [==============================] - 13s 88ms/step - loss: 1.3334 - accuracy: 0.5428 - val_loss: 0.2918 - val_accuracy: 0.9255\n",
      "Epoch 19/100\n",
      "151/151 [==============================] - 13s 88ms/step - loss: 1.3133 - accuracy: 0.5475 - val_loss: 0.2749 - val_accuracy: 0.9293\n",
      "Epoch 20/100\n",
      "151/151 [==============================] - 13s 85ms/step - loss: 1.3011 - accuracy: 0.5532 - val_loss: 0.2661 - val_accuracy: 0.9310\n",
      "Epoch 21/100\n",
      "151/151 [==============================] - 13s 87ms/step - loss: 1.3021 - accuracy: 0.5548 - val_loss: 0.2632 - val_accuracy: 0.9343\n",
      "Epoch 22/100\n",
      "151/151 [==============================] - 13s 85ms/step - loss: 1.2905 - accuracy: 0.5576 - val_loss: 0.2631 - val_accuracy: 0.9324\n",
      "Epoch 23/100\n",
      "151/151 [==============================] - 13s 86ms/step - loss: 1.2838 - accuracy: 0.5615 - val_loss: 0.2688 - val_accuracy: 0.9326\n",
      "Epoch 24/100\n",
      "151/151 [==============================] - 13s 88ms/step - loss: 1.2773 - accuracy: 0.5625 - val_loss: 0.2476 - val_accuracy: 0.9333\n",
      "Epoch 25/100\n",
      "151/151 [==============================] - 13s 86ms/step - loss: 1.2658 - accuracy: 0.5675 - val_loss: 0.2417 - val_accuracy: 0.9352\n",
      "Epoch 26/100\n",
      "151/151 [==============================] - 13s 85ms/step - loss: 1.2582 - accuracy: 0.5685 - val_loss: 0.2446 - val_accuracy: 0.9402\n",
      "Epoch 27/100\n",
      "151/151 [==============================] - 13s 86ms/step - loss: 1.2469 - accuracy: 0.5737 - val_loss: 0.2273 - val_accuracy: 0.9364\n",
      "Epoch 28/100\n",
      "151/151 [==============================] - 13s 85ms/step - loss: 1.2470 - accuracy: 0.5755 - val_loss: 0.2253 - val_accuracy: 0.9395\n",
      "Epoch 29/100\n",
      "151/151 [==============================] - 13s 86ms/step - loss: 1.2553 - accuracy: 0.5715 - val_loss: 0.2165 - val_accuracy: 0.9445\n",
      "Epoch 30/100\n",
      "151/151 [==============================] - 13s 87ms/step - loss: 1.2384 - accuracy: 0.5789 - val_loss: 0.2042 - val_accuracy: 0.9433\n",
      "Epoch 31/100\n",
      "151/151 [==============================] - 13s 85ms/step - loss: 1.2425 - accuracy: 0.5744 - val_loss: 0.2190 - val_accuracy: 0.9419\n",
      "Epoch 32/100\n",
      "151/151 [==============================] - 13s 87ms/step - loss: 1.2330 - accuracy: 0.5787 - val_loss: 0.2043 - val_accuracy: 0.9450\n",
      "Epoch 33/100\n",
      "151/151 [==============================] - 13s 85ms/step - loss: 1.2269 - accuracy: 0.5799 - val_loss: 0.1981 - val_accuracy: 0.9455\n",
      "Epoch 34/100\n",
      "151/151 [==============================] - 13s 86ms/step - loss: 1.2110 - accuracy: 0.5879 - val_loss: 0.1934 - val_accuracy: 0.9476\n",
      "Epoch 35/100\n",
      "151/151 [==============================] - 13s 88ms/step - loss: 1.2133 - accuracy: 0.5870 - val_loss: 0.1947 - val_accuracy: 0.9460\n",
      "Epoch 36/100\n",
      "151/151 [==============================] - 13s 86ms/step - loss: 1.2107 - accuracy: 0.5877 - val_loss: 0.1932 - val_accuracy: 0.9448\n",
      "Epoch 37/100\n",
      "151/151 [==============================] - 13s 86ms/step - loss: 1.2080 - accuracy: 0.5894 - val_loss: 0.1925 - val_accuracy: 0.9464\n",
      "Epoch 38/100\n",
      "151/151 [==============================] - 13s 88ms/step - loss: 1.1967 - accuracy: 0.5912 - val_loss: 0.1877 - val_accuracy: 0.9431\n",
      "Epoch 39/100\n",
      "151/151 [==============================] - 13s 86ms/step - loss: 1.1857 - accuracy: 0.5924 - val_loss: 0.1939 - val_accuracy: 0.9438\n",
      "Epoch 40/100\n",
      "151/151 [==============================] - 13s 89ms/step - loss: 1.1969 - accuracy: 0.5900 - val_loss: 0.1820 - val_accuracy: 0.9457\n",
      "Epoch 41/100\n",
      "151/151 [==============================] - 13s 86ms/step - loss: 1.1965 - accuracy: 0.5938 - val_loss: 0.1855 - val_accuracy: 0.9490\n",
      "Epoch 42/100\n",
      "151/151 [==============================] - 13s 86ms/step - loss: 1.1909 - accuracy: 0.5926 - val_loss: 0.1827 - val_accuracy: 0.9493\n",
      "Epoch 43/100\n",
      "151/151 [==============================] - 13s 88ms/step - loss: 1.1835 - accuracy: 0.5978 - val_loss: 0.1935 - val_accuracy: 0.9469\n",
      "Epoch 44/100\n",
      "151/151 [==============================] - 13s 86ms/step - loss: 1.1718 - accuracy: 0.6009 - val_loss: 0.1841 - val_accuracy: 0.9481\n",
      "Epoch 45/100\n",
      "151/151 [==============================] - 13s 88ms/step - loss: 1.1766 - accuracy: 0.5983 - val_loss: 0.1782 - val_accuracy: 0.9488\n",
      "Epoch 46/100\n",
      "151/151 [==============================] - 13s 86ms/step - loss: 1.1739 - accuracy: 0.6030 - val_loss: 0.1749 - val_accuracy: 0.9490\n",
      "Epoch 47/100\n",
      "151/151 [==============================] - 13s 86ms/step - loss: 1.1686 - accuracy: 0.5997 - val_loss: 0.1718 - val_accuracy: 0.9517\n",
      "Epoch 48/100\n",
      "151/151 [==============================] - 13s 87ms/step - loss: 1.1702 - accuracy: 0.5992 - val_loss: 0.1748 - val_accuracy: 0.9514\n",
      "Epoch 49/100\n",
      "151/151 [==============================] - 13s 86ms/step - loss: 1.1670 - accuracy: 0.6015 - val_loss: 0.1801 - val_accuracy: 0.9500\n",
      "Epoch 50/100\n",
      "151/151 [==============================] - 13s 87ms/step - loss: 1.1606 - accuracy: 0.6035 - val_loss: 0.1667 - val_accuracy: 0.9514\n",
      "Epoch 51/100\n",
      "151/151 [==============================] - 13s 85ms/step - loss: 1.1592 - accuracy: 0.6080 - val_loss: 0.1641 - val_accuracy: 0.9519\n",
      "Epoch 52/100\n",
      "151/151 [==============================] - 13s 86ms/step - loss: 1.1435 - accuracy: 0.6091 - val_loss: 0.1676 - val_accuracy: 0.9517\n",
      "Epoch 53/100\n",
      "151/151 [==============================] - 13s 87ms/step - loss: 1.1559 - accuracy: 0.6048 - val_loss: 0.1650 - val_accuracy: 0.9519\n",
      "Epoch 54/100\n",
      "151/151 [==============================] - 13s 85ms/step - loss: 1.1492 - accuracy: 0.6097 - val_loss: 0.1677 - val_accuracy: 0.9495\n",
      "Epoch 55/100\n",
      "151/151 [==============================] - 13s 87ms/step - loss: 1.1627 - accuracy: 0.6041 - val_loss: 0.1594 - val_accuracy: 0.9531\n",
      "Epoch 56/100\n",
      "151/151 [==============================] - 13s 85ms/step - loss: 1.1545 - accuracy: 0.6043 - val_loss: 0.1685 - val_accuracy: 0.9517\n",
      "Epoch 57/100\n",
      "151/151 [==============================] - 13s 86ms/step - loss: 1.1516 - accuracy: 0.6091 - val_loss: 0.1637 - val_accuracy: 0.9514\n",
      "Epoch 58/100\n",
      "151/151 [==============================] - 13s 89ms/step - loss: 1.1374 - accuracy: 0.6116 - val_loss: 0.1637 - val_accuracy: 0.9495\n",
      "Epoch 59/100\n",
      "151/151 [==============================] - 13s 85ms/step - loss: 1.1386 - accuracy: 0.6139 - val_loss: 0.1649 - val_accuracy: 0.9524\n",
      "Epoch 60/100\n",
      "151/151 [==============================] - 13s 86ms/step - loss: 1.1430 - accuracy: 0.6125 - val_loss: 0.1665 - val_accuracy: 0.9514\n",
      "Epoch 61/100\n",
      "151/151 [==============================] - 13s 87ms/step - loss: 1.1380 - accuracy: 0.6105 - val_loss: 0.1703 - val_accuracy: 0.9533\n",
      "Epoch 62/100\n",
      "151/151 [==============================] - 13s 86ms/step - loss: 1.1363 - accuracy: 0.6139 - val_loss: 0.1556 - val_accuracy: 0.9540\n",
      "Epoch 63/100\n",
      "151/151 [==============================] - 13s 88ms/step - loss: 1.1356 - accuracy: 0.6101 - val_loss: 0.1609 - val_accuracy: 0.9517\n",
      "Epoch 64/100\n",
      "151/151 [==============================] - 13s 87ms/step - loss: 1.1241 - accuracy: 0.6137 - val_loss: 0.1587 - val_accuracy: 0.9557\n",
      "Epoch 65/100\n",
      "151/151 [==============================] - 13s 84ms/step - loss: 1.1237 - accuracy: 0.6125 - val_loss: 0.1573 - val_accuracy: 0.9536\n",
      "Epoch 66/100\n",
      "151/151 [==============================] - 13s 88ms/step - loss: 1.1156 - accuracy: 0.6178 - val_loss: 0.1588 - val_accuracy: 0.9512\n",
      "Epoch 67/100\n",
      "151/151 [==============================] - 13s 85ms/step - loss: 1.1293 - accuracy: 0.6118 - val_loss: 0.1589 - val_accuracy: 0.9538\n",
      "Epoch 68/100\n",
      "151/151 [==============================] - 13s 88ms/step - loss: 1.1099 - accuracy: 0.6206 - val_loss: 0.1530 - val_accuracy: 0.9538\n",
      "Epoch 69/100\n",
      "151/151 [==============================] - 13s 86ms/step - loss: 1.1279 - accuracy: 0.6148 - val_loss: 0.1592 - val_accuracy: 0.9552\n",
      "Epoch 70/100\n",
      "151/151 [==============================] - 13s 88ms/step - loss: 1.1225 - accuracy: 0.6157 - val_loss: 0.1576 - val_accuracy: 0.9526\n",
      "Epoch 71/100\n",
      "151/151 [==============================] - 13s 87ms/step - loss: 1.1082 - accuracy: 0.6203 - val_loss: 0.1504 - val_accuracy: 0.9531\n",
      "Epoch 72/100\n",
      "151/151 [==============================] - 13s 89ms/step - loss: 1.1104 - accuracy: 0.6228 - val_loss: 0.1576 - val_accuracy: 0.9531\n",
      "Epoch 73/100\n",
      "151/151 [==============================] - 13s 85ms/step - loss: 1.1230 - accuracy: 0.6181 - val_loss: 0.1545 - val_accuracy: 0.9536\n",
      "Epoch 74/100\n",
      "151/151 [==============================] - 13s 86ms/step - loss: 1.1108 - accuracy: 0.6199 - val_loss: 0.1536 - val_accuracy: 0.9540\n",
      "Epoch 75/100\n",
      "151/151 [==============================] - 13s 86ms/step - loss: 1.1113 - accuracy: 0.6245 - val_loss: 0.1545 - val_accuracy: 0.9526\n",
      "Epoch 76/100\n",
      "151/151 [==============================] - 13s 86ms/step - loss: 1.1142 - accuracy: 0.6197 - val_loss: 0.1585 - val_accuracy: 0.9519\n",
      "Epoch 77/100\n",
      "151/151 [==============================] - 13s 85ms/step - loss: 1.1103 - accuracy: 0.6179 - val_loss: 0.1569 - val_accuracy: 0.9500\n",
      "Epoch 78/100\n",
      "151/151 [==============================] - 13s 88ms/step - loss: 1.1095 - accuracy: 0.6215 - val_loss: 0.1643 - val_accuracy: 0.9510\n",
      "Epoch 79/100\n",
      "151/151 [==============================] - 13s 85ms/step - loss: 1.1067 - accuracy: 0.6195 - val_loss: 0.1522 - val_accuracy: 0.9562\n",
      "Epoch 80/100\n",
      "151/151 [==============================] - 14s 91ms/step - loss: 1.0992 - accuracy: 0.6258 - val_loss: 0.1480 - val_accuracy: 0.9562\n",
      "Epoch 81/100\n",
      "151/151 [==============================] - 13s 86ms/step - loss: 1.0990 - accuracy: 0.6288 - val_loss: 0.1532 - val_accuracy: 0.9545\n",
      "Epoch 82/100\n",
      "151/151 [==============================] - 13s 86ms/step - loss: 1.0980 - accuracy: 0.6272 - val_loss: 0.1489 - val_accuracy: 0.9552\n",
      "Epoch 83/100\n",
      "151/151 [==============================] - 13s 87ms/step - loss: 1.0960 - accuracy: 0.6256 - val_loss: 0.1604 - val_accuracy: 0.9512\n",
      "Epoch 84/100\n",
      "151/151 [==============================] - 13s 87ms/step - loss: 1.0806 - accuracy: 0.6323 - val_loss: 0.1514 - val_accuracy: 0.9557\n",
      "Epoch 85/100\n",
      "151/151 [==============================] - 13s 85ms/step - loss: 1.0961 - accuracy: 0.6261 - val_loss: 0.1509 - val_accuracy: 0.9562\n",
      "Epoch 86/100\n",
      "151/151 [==============================] - 13s 88ms/step - loss: 1.0964 - accuracy: 0.6259 - val_loss: 0.1493 - val_accuracy: 0.9538\n",
      "Epoch 87/100\n",
      "151/151 [==============================] - 13s 84ms/step - loss: 1.0979 - accuracy: 0.6244 - val_loss: 0.1547 - val_accuracy: 0.9533\n",
      "Epoch 88/100\n",
      "151/151 [==============================] - 14s 90ms/step - loss: 1.0955 - accuracy: 0.6276 - val_loss: 0.1467 - val_accuracy: 0.9557\n",
      "Epoch 89/100\n",
      "151/151 [==============================] - 13s 86ms/step - loss: 1.0897 - accuracy: 0.6280 - val_loss: 0.1537 - val_accuracy: 0.9545\n",
      "Epoch 90/100\n",
      "151/151 [==============================] - 13s 88ms/step - loss: 1.0919 - accuracy: 0.6303 - val_loss: 0.1493 - val_accuracy: 0.9569\n",
      "Epoch 91/100\n",
      "151/151 [==============================] - 13s 86ms/step - loss: 1.0916 - accuracy: 0.6260 - val_loss: 0.1499 - val_accuracy: 0.9536\n",
      "Epoch 92/100\n",
      "151/151 [==============================] - 13s 87ms/step - loss: 1.0900 - accuracy: 0.6283 - val_loss: 0.1503 - val_accuracy: 0.9545\n",
      "Epoch 93/100\n",
      "151/151 [==============================] - 13s 87ms/step - loss: 1.0920 - accuracy: 0.6280 - val_loss: 0.1454 - val_accuracy: 0.9569\n",
      "Epoch 94/100\n",
      "151/151 [==============================] - 13s 89ms/step - loss: 1.0794 - accuracy: 0.6307 - val_loss: 0.1466 - val_accuracy: 0.9576\n",
      "Epoch 95/100\n",
      "151/151 [==============================] - 13s 85ms/step - loss: 1.0800 - accuracy: 0.6341 - val_loss: 0.1404 - val_accuracy: 0.9581\n",
      "Epoch 96/100\n",
      "151/151 [==============================] - 13s 89ms/step - loss: 1.0823 - accuracy: 0.6323 - val_loss: 0.1432 - val_accuracy: 0.9564\n",
      "Epoch 97/100\n",
      "151/151 [==============================] - 13s 85ms/step - loss: 1.0859 - accuracy: 0.6297 - val_loss: 0.1516 - val_accuracy: 0.9540\n",
      "Epoch 98/100\n",
      "151/151 [==============================] - 14s 91ms/step - loss: 1.0808 - accuracy: 0.6281 - val_loss: 0.1499 - val_accuracy: 0.9540\n",
      "Epoch 99/100\n",
      "151/151 [==============================] - 13s 85ms/step - loss: 1.0797 - accuracy: 0.6332 - val_loss: 0.1481 - val_accuracy: 0.9579\n",
      "Epoch 100/100\n",
      "151/151 [==============================] - 13s 87ms/step - loss: 1.1002 - accuracy: 0.6274 - val_loss: 0.1441 - val_accuracy: 0.9574\n"
     ]
    }
   ],
   "source": [
    "history = model.fit_generator(datagen.flow(X_train, Y_train, batch_size=batch_size),\n",
    "                             epochs = epoch, validation_data=(X_val, Y_val), steps_per_epoch=X_train.shape[0] // batch_size)"
   ]
  },
  {
   "cell_type": "code",
   "execution_count": 19,
   "id": "43e48c73",
   "metadata": {
    "execution": {
     "iopub.execute_input": "2021-11-13T11:26:13.614250Z",
     "iopub.status.busy": "2021-11-13T11:26:13.613463Z",
     "iopub.status.idle": "2021-11-13T11:26:13.821875Z",
     "shell.execute_reply": "2021-11-13T11:26:13.821193Z",
     "shell.execute_reply.started": "2021-11-13T10:48:22.504459Z"
    },
    "papermill": {
     "duration": 4.857596,
     "end_time": "2021-11-13T11:26:13.822023",
     "exception": false,
     "start_time": "2021-11-13T11:26:08.964427",
     "status": "completed"
    },
    "tags": []
   },
   "outputs": [
    {
     "data": {
      "image/png": "[encoded data removed]",
      "text/plain": [
       "<Figure size 432x288 with 1 Axes>"
      ]
     },
     "metadata": {
      "needs_background": "light"
     },
     "output_type": "display_data"
    }
   ],
   "source": [
    "plt.plot(history.history[\"val_loss\"],color = \"b\", label = \"validation loss\")\n",
    "plt.title(\"Test Loss\")\n",
    "plt.xlabel(\"Number of Epochs\")\n",
    "plt.ylabel(\"Loss\")\n",
    "plt.legend()\n",
    "plt.show()"
   ]
  },
  {
   "cell_type": "code",
   "execution_count": 20,
   "id": "f1328683",
   "metadata": {
    "execution": {
     "iopub.execute_input": "2021-11-13T11:26:23.078553Z",
     "iopub.status.busy": "2021-11-13T11:26:23.077373Z",
     "iopub.status.idle": "2021-11-13T11:26:25.377831Z",
     "shell.execute_reply": "2021-11-13T11:26:25.377321Z",
     "shell.execute_reply.started": "2021-11-13T10:48:22.779397Z"
    },
    "papermill": {
     "duration": 6.980274,
     "end_time": "2021-11-13T11:26:25.377971",
     "exception": false,
     "start_time": "2021-11-13T11:26:18.397697",
     "status": "completed"
    },
    "tags": []
   },
   "outputs": [
    {
     "data": {
      "text/plain": [
       "(28000,)"
      ]
     },
     "execution_count": 20,
     "metadata": {},
     "output_type": "execute_result"
    }
   ],
   "source": [
    "prediction = model.predict(test)\n",
    "prediction=np.argmax(prediction,axis=1)\n",
    "prediction.shape"
   ]
  },
  {
   "cell_type": "code",
   "execution_count": 21,
   "id": "27c11081",
   "metadata": {
    "execution": {
     "iopub.execute_input": "2021-11-13T11:26:34.585667Z",
     "iopub.status.busy": "2021-11-13T11:26:34.584999Z",
     "iopub.status.idle": "2021-11-13T11:26:34.671288Z",
     "shell.execute_reply": "2021-11-13T11:26:34.670593Z",
     "shell.execute_reply.started": "2021-11-13T10:48:25.030038Z"
    },
    "papermill": {
     "duration": 4.642881,
     "end_time": "2021-11-13T11:26:34.671457",
     "exception": false,
     "start_time": "2021-11-13T11:26:30.028576",
     "status": "completed"
    },
    "tags": []
   },
   "outputs": [],
   "source": [
    "submission = pd.read_csv('/kaggle/input/digit-recognizer/sample_submission.csv')\n",
    "submission['Label']=prediction\n",
    "submission.head()\n",
    "submission.to_csv(\"submission.csv\",index=False)"
   ]
  },
  {
   "cell_type": "code",
   "execution_count": null,
   "id": "bd25fbbb",
   "metadata": {
    "papermill": {
     "duration": 4.634855,
     "end_time": "2021-11-13T11:26:43.925297",
     "exception": false,
     "start_time": "2021-11-13T11:26:39.290442",
     "status": "completed"
    },
    "tags": []
   },
   "outputs": [],
   "source": []
  },
  {
   "cell_type": "code",
   "execution_count": null,
   "id": "25660832",
   "metadata": {
    "papermill": {
     "duration": 4.745968,
     "end_time": "2021-11-13T11:26:53.254741",
     "exception": false,
     "start_time": "2021-11-13T11:26:48.508773",
     "status": "completed"
    },
    "tags": []
   },
   "outputs": [],
   "source": []
  }
 ],
 "metadata": {
  "kernelspec": {
   "display_name": "Python 3",
   "language": "python",
   "name": "python3"
  },
  "language_info": {
   "codemirror_mode": {
    "name": "ipython",
    "version": 3
   },
   "file_extension": ".py",
   "mimetype": "text/x-python",
   "name": "python",
   "nbconvert_exporter": "python",
   "pygments_lexer": "ipython3",
   "version": "3.7.10"
  },
  "papermill": {
   "default_parameters": {},
   "duration": 2032.955904,
   "end_time": "2021-11-13T11:27:01.308801",
   "environment_variables": {},
   "exception": null,
   "input_path": "__notebook__.ipynb",
   "output_path": "__notebook__.ipynb",
   "parameters": {},
   "start_time": "2021-11-13T10:53:08.352897",
   "version": "2.3.3"
  }
 },
 "nbformat": 4,
 "nbformat_minor": 5
}
